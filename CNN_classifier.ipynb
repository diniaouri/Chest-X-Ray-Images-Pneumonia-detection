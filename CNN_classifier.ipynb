{
 "cells": [
  {
   "cell_type": "code",
   "execution_count": 1,
   "id": "c3f993c1-d57f-4b44-918e-5d3710351f37",
   "metadata": {},
   "outputs": [],
   "source": [
    "# Import libraries\n",
    "import os\n",
    "from torch.utils.data import DataLoader,Dataset, random_split, Subset\n",
    "from skimage import io, transform\n",
    "from matplotlib import pyplot as plt\n",
    "import numpy as np\n",
    "import fnmatch\n",
    "import torch\n",
    "import torch.nn as nn\n",
    "from torchvision import transforms, datasets\n",
    "from PIL import Image\n",
    "from tqdm import tqdm\n",
    "import copy\n",
    "\n",
    "\n",
    "# Define the device and data repository\n",
    "device = 'cpu'"
   ]
  },
  {
   "cell_type": "code",
   "execution_count": 46,
   "id": "d7f4658b-e94c-48d9-bd10-4cd30adbe4d6",
   "metadata": {},
   "outputs": [],
   "source": [
    "# def transform_image(image_path,target_height, target_witdth):\n",
    "#     image = Image.open(image_path)\n",
    "#     transform = transforms.Resize(size = (target_height,target_witdth))\n",
    "#     image = transform(image)\n",
    "#     return image\n",
    "\n",
    "def find_files(directory, pattern='*.jpeg'):\n",
    "        \"\"\"Recursively find all files matching the pattern.\"\"\"\n",
    "        image_path_list = []\n",
    "        for root, dirnames, filenames in os.walk(directory):\n",
    "            for filename in fnmatch.filter(filenames, pattern):\n",
    "                image_path_list.append(os.path.join(root, filename))\n",
    "        return image_path_list\n",
    "    \n",
    "def resize_folder(dir_path,target_height,target_witdth):\n",
    "    list_image_path = find_files(dir_path)\n",
    "    for image_path in tqdm(list_image_path):\n",
    "        #resize image\n",
    "        image = Image.open(image_path)\n",
    "        transform = transforms.Resize(size = (target_height,target_witdth))\n",
    "        new_image = transform(image)\n",
    "        \n",
    "        main_dataset = image_path.split('/')[0]\n",
    "        sub_dataset = image_path.split('/')[1]\n",
    "        label = image_path.split('/')[2]\n",
    "        file = image_path.split('/')[-1]\n",
    "        file = file.split('.')[0]\n",
    "        new_folder = str(main_dataset)+'/'+str(sub_dataset)+'_resized_'+str(target_height)+'_'+str(target_witdth)+'/'+str(label)+'/'\n",
    "        if not os.path.exists(new_folder):\n",
    "            os.makedirs(new_folder)\n",
    "        new_image.save(os.path.join(new_folder, file +'_resized'+'.jpeg'), 'JPEG', optimize=True)\n",
    "    resized_folder = str(main_dataset)+'/'+str(sub_dataset)+'_resized_'  +str(target_height)+'_'+str(target_witdth)  \n",
    "    return str(resized_folder)"
   ]
  },
  {
   "cell_type": "code",
   "execution_count": 39,
   "id": "7ade9b50-a99f-4692-be88-e096edaf7f7b",
   "metadata": {},
   "outputs": [
    {
     "name": "stderr",
     "output_type": "stream",
     "text": [
      "100%|███████████████████████████████████████████████████████████████████████████████| 5216/5216 [02:29<00:00, 34.82it/s]\n"
     ]
    },
    {
     "name": "stdout",
     "output_type": "stream",
     "text": [
      "Dataset/train_resized_\n"
     ]
    },
    {
     "name": "stderr",
     "output_type": "stream",
     "text": [
      "100%|███████████████████████████████████████████████████████████████████████████████████| 16/16 [00:00<00:00, 29.31it/s]\n"
     ]
    },
    {
     "name": "stdout",
     "output_type": "stream",
     "text": [
      "Dataset/val_resized_\n"
     ]
    },
    {
     "name": "stderr",
     "output_type": "stream",
     "text": [
      "100%|█████████████████████████████████████████████████████████████████████████████████| 624/624 [00:17<00:00, 35.62it/s]"
     ]
    },
    {
     "name": "stdout",
     "output_type": "stream",
     "text": [
      "Dataset/test_resized_\n"
     ]
    },
    {
     "name": "stderr",
     "output_type": "stream",
     "text": [
      "\n"
     ]
    }
   ],
   "source": [
    "# Resize image for training\n",
    "train_path = 'Dataset/train'\n",
    "resized_train_path = resize_folder(train_path,target_height=256,target_witdth=256)\n",
    "print(resized_train_path)\n",
    "\n",
    "# Resize image for validation\n",
    "valid_path = 'Dataset/val'\n",
    "resized_valid_path = resize_folder(valid_path,target_height=256,target_witdth=256)\n",
    "print(resized_valid_path)\n",
    "\n",
    "# Resize image for testing\n",
    "test_path = 'Dataset/test'\n",
    "resized_test_path = resize_folder(test_path,target_height=256,target_witdth=256)\n",
    "print(resized_test_path)"
   ]
  },
  {
   "cell_type": "code",
   "execution_count": null,
   "id": "df900ad8-80cc-4e3d-821a-718b800ffff0",
   "metadata": {},
   "outputs": [],
   "source": []
  },
  {
   "cell_type": "code",
   "execution_count": null,
   "id": "6c4aee7e-88f2-4edb-9df1-fb51fc90dd31",
   "metadata": {},
   "outputs": [],
   "source": []
  },
  {
   "cell_type": "code",
   "execution_count": 3,
   "id": "d38d59dc-4464-42e2-a188-31e49229d12a",
   "metadata": {},
   "outputs": [],
   "source": [
    "class XrayDataset(Dataset):\n",
    "\n",
    "    def __init__(self, image_dir):\n",
    "        \"\"\"Initialize the attributes of the object of the class.\"\"\"\n",
    "        self.image_dir = image_dir\n",
    "        self.image_path_list = sorted(self._find_files(image_dir))\n",
    "        self.classes = self._get_class()\n",
    "        self.class_to_idx  = self._get_class_index()\n",
    "\n",
    "    def __len__(self):\n",
    "        \"\"\"Return the size of the dataset.\"\"\"\n",
    "        return len(self.image_path_list)\n",
    "\n",
    "    def __getitem__(self, index):\n",
    "        \"\"\"Return a data sample (=image) for a given index, along with the name of the corresponding pokemon.\"\"\"\n",
    "        \n",
    "        # TO DO:\n",
    "        image_path = self.image_path_list[index]\n",
    "        label = image_path.split('/')[-2]\n",
    "        label = self.class_to_idx[label]\n",
    "        x = io.imread(image_path, as_gray = True)\n",
    "#         if len(x.shape)==3:\n",
    "#             x = x[:,:,0]\n",
    "        image_np = x / np.max(x)\n",
    "#         x = torch.tensor(image_np, dtype=float)\n",
    "        x = torch.tensor(image_np).float()\n",
    "        x = x.unsqueeze(0)\n",
    "        return x, label\n",
    "\n",
    "    def _find_files(self, directory, pattern='*.jpeg'):\n",
    "        \"\"\"Recursively find all files matching the pattern.\"\"\"\n",
    "        image_path_list = []\n",
    "        for root, dirnames, filenames in os.walk(directory):\n",
    "            for filename in fnmatch.filter(filenames, pattern):\n",
    "                image_path_list.append(os.path.join(root, filename))\n",
    "        return image_path_list\n",
    "    \n",
    "    def _get_class(self):\n",
    "        classes = []\n",
    "        for path in self.image_path_list:\n",
    "            class_image = path.split('/')[2]\n",
    "            if class_image not in classes:\n",
    "                classes.append(class_image)\n",
    "        return classes\n",
    "    \n",
    "    def _get_class_index(self):\n",
    "        idx_to_class = {i:j for i, j in enumerate(self.classes)}\n",
    "        class_to_idx = {value:key for key,value in idx_to_class.items()}\n",
    "        return class_to_idx"
   ]
  },
  {
   "cell_type": "code",
   "execution_count": 47,
   "id": "0de86491-d703-4db7-89ee-7d232312c5f3",
   "metadata": {},
   "outputs": [],
   "source": [
    "# We can initialize the dataset by providing the directory of the image corpus data\n",
    "train_dataset = XrayDataset(image_dir='Dataset/train_resized_256_256')\n",
    "\n",
    "valid_dataset = XrayDataset(image_dir='Dataset/val_resized_256_256')\n",
    "\n",
    "test_dataset = XrayDataset(image_dir='Dataset/test_resized_256_256')"
   ]
  },
  {
   "cell_type": "code",
   "execution_count": 48,
   "id": "81b9fe23-6021-4031-b585-e7e9dcbc7123",
   "metadata": {},
   "outputs": [],
   "source": [
    "batch_size = 8\n",
    "train_dataloader = DataLoader(train_dataset, batch_size=batch_size, shuffle=True)\n",
    "valid_dataloader = DataLoader(valid_dataset, batch_size=batch_size)\n",
    "test_dataloader = DataLoader(test_dataset, batch_size=batch_size)"
   ]
  },
  {
   "cell_type": "code",
   "execution_count": 56,
   "id": "70472831-64d4-4bc8-8a28-ef5baeec3836",
   "metadata": {},
   "outputs": [],
   "source": [
    "class CNNClassif(nn.Module):\n",
    "    def __init__(self, num_channels=[1, 16, 32, 16, 4], num_classes=10):\n",
    "        super(CNNClassif, self).__init__()\n",
    "        \n",
    "        # TO DO: define the convolutional layers 1 and 2 and the linear layer as above.\n",
    "        self.cnn_layer1 = nn.Sequential(\n",
    "            nn.Conv2d(num_channels[0], num_channels[1], kernel_size=3, padding=1),\n",
    "            nn.ReLU(),\n",
    "            nn.MaxPool2d(kernel_size=2))\n",
    "            \n",
    "        self.cnn_layer2 = nn.Sequential(\n",
    "            nn.Conv2d(num_channels[1], num_channels[2], kernel_size=3, padding=1),\n",
    "            nn.ReLU(),\n",
    "            nn.MaxPool2d(kernel_size=2))\n",
    "        \n",
    "        self.cnn_layer3 = nn.Sequential(\n",
    "            nn.Conv2d(num_channels[2], num_channels[3], kernel_size=3, padding=1),\n",
    "            nn.ReLU(),\n",
    "            nn.MaxPool2d(kernel_size=2))\n",
    "        \n",
    "        self.cnn_layer4 = nn.Sequential(\n",
    "            nn.Conv2d(num_channels[3], num_channels[4], kernel_size=3, padding=1),\n",
    "            nn.ReLU(),\n",
    "            nn.MaxPool2d(kernel_size=2))\n",
    "        dim = 256 // (2 ** (len(num_channels)-1))\n",
    "        self.lin_layer1 = nn.Linear(dim*dim*num_channels[-1], dim*num_channels[-1])\n",
    "        self.lin_layer2 = nn.Linear(dim*num_channels[-1], num_classes)\n",
    "        \n",
    "                \n",
    "    def forward(self, x): \n",
    "        # TO DO: write the forward pass, which:\n",
    "        # - applies the two cnn layers to produce feature maps\n",
    "        # - vectorize the feature maps\n",
    "        # - applies the linear layer\n",
    "        out = self.cnn_layer1(x)\n",
    "        out = self.cnn_layer2(out)\n",
    "        out = self.cnn_layer3(out)\n",
    "        out = self.cnn_layer4(out)\n",
    "        out = out.reshape(out.size(0), -1)\n",
    "        out = self.lin_layer1(out)\n",
    "        out = self.lin_layer2(out)\n",
    "\n",
    "        \n",
    "        return out \n"
   ]
  },
  {
   "cell_type": "code",
   "execution_count": 17,
   "id": "211bd170-3672-48b5-8217-dcb1de327916",
   "metadata": {},
   "outputs": [
    {
     "name": "stdout",
     "output_type": "stream",
     "text": [
      "Total number of parameters:  12054\n"
     ]
    }
   ],
   "source": [
    "# Instantiate the model\n",
    "num_channels = [1, 16, 32, 16, 4]\n",
    "num_classes = 2\n",
    "model = CNNClassif([1, 16, 32, 16, 4], num_classes)\n",
    "\n",
    "# Print the total number of parameters in the model\n",
    "print('Total number of parameters: ', sum(p.numel() for p in model.parameters()))"
   ]
  },
  {
   "cell_type": "code",
   "execution_count": null,
   "id": "c5096f2c-3406-45d5-b6c8-4526db06e215",
   "metadata": {},
   "outputs": [],
   "source": []
  },
  {
   "cell_type": "code",
   "execution_count": 12,
   "id": "baa88068-813d-43c0-a2a9-e696838776e9",
   "metadata": {},
   "outputs": [],
   "source": [
    "#  Training function \n",
    "\n",
    "def training_cnn_classifier(model_or, train_dataloader, num_epochs, loss_fn, learning_rate, device='cpu', verbose=True):\n",
    "\n",
    "    # Set the model\n",
    "    # model = model.to(device)\n",
    "    model = copy.deepcopy(model_or)\n",
    "    model.train()\n",
    "    \n",
    "    # define the optimizer (SGD)\n",
    "    optimizer = torch.optim.SGD(model.parameters(), lr=learning_rate)\n",
    "    \n",
    "    # Initialize a list to save the training loss over epochs\n",
    "    loss_total = []\n",
    "    \n",
    "    # Training loop\n",
    "    for epoch in range(num_epochs):\n",
    "        loss_current_epoch = 0\n",
    "        for batch_index, (images, labels) in enumerate(train_dataloader):\n",
    "            # copy images and labels to the device\n",
    "            images = images.to(device)\n",
    "            labels = labels.to(device)\n",
    "\n",
    "            # forward pass\n",
    "            y_predicted = model(images)\n",
    "            loss = loss_fn(y_predicted, labels)\n",
    "\n",
    "            # backpropagation\n",
    "            optimizer.zero_grad()\n",
    "            loss.backward()\n",
    "            optimizer.step()\n",
    "            \n",
    "            # Record the loss\n",
    "            loss_current_epoch += loss.item()\n",
    "\n",
    "        # At the end of each epoch, save the average loss over batches and display it\n",
    "        loss_total.append(loss_current_epoch)\n",
    "        if verbose:\n",
    "            print ('Epoch [{}/{}], Loss: {:.4f}'.format(epoch+1, num_epochs, loss_current_epoch))\n",
    "        \n",
    "    return model, loss_total"
   ]
  },
  {
   "cell_type": "code",
   "execution_count": 24,
   "id": "b2a554d7-df9f-4e10-b34e-89b51bac3eb7",
   "metadata": {},
   "outputs": [],
   "source": [
    "# Eval function\n",
    "\n",
    "def eval_cnn_classifier(model, eval_dataloader, device):\n",
    "    # Prepare the model (copy to device and disable some layers (batch norm, dropout...) when evaluating\n",
    "    # model.to(device)\n",
    "    model.eval() \n",
    "\n",
    "    # In test phase, we don't need to compute gradients (for memory efficiency)\n",
    "    with torch.no_grad():\n",
    "        # initialize the total and correct number of labels to compute the accuracy\n",
    "        correct = 0\n",
    "        total = 0\n",
    "        for images, labels in eval_dataloader:\n",
    "            # images = images.to(device)\n",
    "            # labels = labels.to(device)\n",
    "            y_predicted = model(images)\n",
    "            _, label_predicted = torch.max(y_predicted.data, 1)\n",
    "            total += labels.size(0)\n",
    "            correct += (label_predicted == labels).sum().item()\n",
    "    \n",
    "    accuracy = 100 * correct / total\n",
    "    \n",
    "    return accuracy"
   ]
  },
  {
   "cell_type": "code",
   "execution_count": 18,
   "id": "7df891a6-422d-475b-87a3-1bcc172aba77",
   "metadata": {},
   "outputs": [
    {
     "name": "stdout",
     "output_type": "stream",
     "text": [
      "Epoch [1/20], Loss: 112.4995\n",
      "Epoch [2/20], Loss: 91.6805\n",
      "Epoch [3/20], Loss: 91.2237\n",
      "Epoch [4/20], Loss: 90.7147\n",
      "Epoch [5/20], Loss: 90.0407\n",
      "Epoch [6/20], Loss: 89.2162\n",
      "Epoch [7/20], Loss: 88.2445\n",
      "Epoch [8/20], Loss: 86.2063\n",
      "Epoch [9/20], Loss: 84.0882\n",
      "Epoch [10/20], Loss: 79.2454\n",
      "Epoch [11/20], Loss: 71.5142\n",
      "Epoch [12/20], Loss: 60.9510\n",
      "Epoch [13/20], Loss: 53.6833\n",
      "Epoch [14/20], Loss: 45.8892\n",
      "Epoch [15/20], Loss: 45.2200\n",
      "Epoch [16/20], Loss: 38.9854\n",
      "Epoch [17/20], Loss: 38.2713\n",
      "Epoch [18/20], Loss: 37.3195\n",
      "Epoch [19/20], Loss: 31.5767\n",
      "Epoch [20/20], Loss: 32.9958\n"
     ]
    },
    {
     "data": {
      "image/png": "[encoded data removed]",
      "text/plain": [
       "<Figure size 640x480 with 1 Axes>"
      ]
     },
     "metadata": {},
     "output_type": "display_data"
    }
   ],
   "source": [
    "# Optimizer\n",
    "num_epochs = 20\n",
    "loss_fn = nn.CrossEntropyLoss()\n",
    "learning_rate = 0.001\n",
    "\n",
    "# Training\n",
    "model_cnn, loss_total = training_cnn_classifier(model, train_dataloader, num_epochs, loss_fn, learning_rate, device='cpu', verbose=True)\n",
    "\n",
    "# Save the model and display the loss over epochs\n",
    "torch.save(model_cnn.state_dict(), 'model_cnn_classif.pt')\n",
    "plt.plot(loss_total)\n",
    "plt.show()"
   ]
  },
  {
   "cell_type": "code",
   "execution_count": 55,
   "id": "34a624fc-5261-433d-9640-20c6aeb43177",
   "metadata": {},
   "outputs": [
    {
     "name": "stdout",
     "output_type": "stream",
     "text": [
      "Accuracy of the network on the test images:  80.76923076923077 %\n"
     ]
    }
   ],
   "source": [
    "model = CNNClassif([1, 16, 32, 16, 4], num_classes)\n",
    "model_cnn.load_state_dict(torch.load('model_cnn_classif.pt'))\n",
    "accuracy = eval_cnn_classifier(model_cnn, test_dataloader, device)\n",
    "print('Accuracy of the network on the test images: ', accuracy, '%')"
   ]
  },
  {
   "cell_type": "code",
   "execution_count": 54,
   "id": "c25033d7-318d-4a6e-8f37-3e8cecb60cfd",
   "metadata": {},
   "outputs": [
    {
     "data": {
      "text/plain": [
       "78"
      ]
     },
     "execution_count": 54,
     "metadata": {},
     "output_type": "execute_result"
    }
   ],
   "source": [
    "len(test_dataloader)"
   ]
  },
  {
   "cell_type": "code",
   "execution_count": 49,
   "id": "5fab83fd-18cf-42b6-aa36-583dfb1cd363",
   "metadata": {},
   "outputs": [],
   "source": [
    "data_iter = iter(test_dataloader)"
   ]
  },
  {
   "cell_type": "code",
   "execution_count": 50,
   "id": "262e5a6f-6f84-401c-91c4-cf42f0b18797",
   "metadata": {},
   "outputs": [],
   "source": [
    "image = data_iter.next()[0]"
   ]
  },
  {
   "cell_type": "code",
   "execution_count": 35,
   "id": "d7b44af0-e743-4619-8ac1-6458e6e4bd41",
   "metadata": {},
   "outputs": [],
   "source": [
    "a = model_cnn(image)"
   ]
  },
  {
   "cell_type": "code",
   "execution_count": 36,
   "id": "025c9194-f3c4-4b56-9e46-7fe594bc9675",
   "metadata": {},
   "outputs": [
    {
     "data": {
      "text/plain": [
       "tensor([[ 4.2951, -2.1590],\n",
       "        [ 4.8111, -2.5850],\n",
       "        [ 2.8336, -0.9518],\n",
       "        [ 0.4874,  1.9945],\n",
       "        [ 2.8590, -0.7918],\n",
       "        [ 3.8748, -1.6120],\n",
       "        [ 5.6868, -3.6495],\n",
       "        [ 1.5426,  1.3983]], grad_fn=<AddmmBackward0>)"
      ]
     },
     "execution_count": 36,
     "metadata": {},
     "output_type": "execute_result"
    }
   ],
   "source": [
    "a"
   ]
  }
 ],
 "metadata": {
  "kernelspec": {
   "display_name": "Python 3 (ipykernel)",
   "language": "python",
   "name": "python3"
  },
  "language_info": {
   "codemirror_mode": {
    "name": "ipython",
    "version": 3
   },
   "file_extension": ".py",
   "mimetype": "text/x-python",
   "name": "python",
   "nbconvert_exporter": "python",
   "pygments_lexer": "ipython3",
   "version": "3.10.6"
  }
 },
 "nbformat": 4,
 "nbformat_minor": 5
}
